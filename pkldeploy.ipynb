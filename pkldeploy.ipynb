{
  "cells": [
    {
      "cell_type": "code",
      "source": [],
      "outputs": [],
      "execution_count": null,
      "metadata": {}
    },
    {
      "cell_type": "code",
      "source": [
        "import joblib\n",
        "import pandas as pd"
      ],
      "outputs": [],
      "execution_count": 1,
      "metadata": {
        "gather": {
          "logged": 1759144551592
        }
      }
    },
    {
      "cell_type": "code",
      "source": [
        "\n",
        "\n",
        "# Load model\n",
        "model = joblib.load(\"sales_forecast_model.pkl\")\n",
        "\n",
        "# Make a new future forecast (e.g., another 60 days ahead)\n",
        "future = model.make_future_dataframe(periods=60, freq='D')\n",
        "forecast = model.predict(future)\n",
        "\n",
        "# Save new forecast\n",
        "forecast[['ds', 'yhat', 'yhat_lower', 'yhat_upper']].to_csv(\"new_forecast.csv\", index=False)\n",
        "print(\"✅ New forecast saved as new_forecast.csv\")\n"
      ],
      "outputs": [
        {
          "output_type": "stream",
          "name": "stderr",
          "text": "/anaconda/envs/azureml_py310_sdkv2/lib/python3.10/site-packages/tqdm/auto.py:21: TqdmWarning: IProgress not found. Please update jupyter and ipywidgets. See https://ipywidgets.readthedocs.io/en/stable/user_install.html\n  from .autonotebook import tqdm as notebook_tqdm\nImporting plotly failed. Interactive plots will not work.\n"
        },
        {
          "output_type": "stream",
          "name": "stdout",
          "text": "✅ New forecast saved as new_forecast.csv\n"
        }
      ],
      "execution_count": 2,
      "metadata": {
        "gather": {
          "logged": 1759144552209
        }
      }
    },
    {
      "cell_type": "code",
      "source": [],
      "outputs": [],
      "execution_count": null,
      "metadata": {}
    }
  ],
  "metadata": {
    "kernelspec": {
      "name": "python310-sdkv2",
      "language": "python",
      "display_name": "Python 3.10 - SDK v2"
    },
    "language_info": {
      "name": "python",
      "version": "3.10.18",
      "mimetype": "text/x-python",
      "codemirror_mode": {
        "name": "ipython",
        "version": 3
      },
      "pygments_lexer": "ipython3",
      "nbconvert_exporter": "python",
      "file_extension": ".py"
    },
    "microsoft": {
      "ms_spell_check": {
        "ms_spell_check_language": "en"
      },
      "host": {
        "AzureML": {
          "notebookHasBeenCompleted": true
        }
      }
    },
    "kernel_info": {
      "name": "python310-sdkv2"
    },
    "nteract": {
      "version": "nteract-front-end@1.0.0"
    }
  },
  "nbformat": 4,
  "nbformat_minor": 2
}